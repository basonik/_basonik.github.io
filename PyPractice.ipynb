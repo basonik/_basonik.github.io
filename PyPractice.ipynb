{
  "nbformat": 4,
  "nbformat_minor": 0,
  "metadata": {
    "colab": {
      "provenance": [],
      "authorship_tag": "ABX9TyPwnAT56OoAxt5g6XjvY71l",
      "include_colab_link": true
    },
    "kernelspec": {
      "name": "python3",
      "display_name": "Python 3"
    },
    "language_info": {
      "name": "python"
    }
  },
  "cells": [
    {
      "cell_type": "markdown",
      "metadata": {
        "id": "view-in-github",
        "colab_type": "text"
      },
      "source": [
        "<a href=\"https://colab.research.google.com/github/basonik/_basonik.github.io/blob/main/PyPractice.ipynb\" target=\"_parent\"><img src=\"https://colab.research.google.com/assets/colab-badge.svg\" alt=\"Open In Colab\"/></a>"
      ]
    },
    {
      "cell_type": "markdown",
      "source": [
        "# **Number 1**"
      ],
      "metadata": {
        "id": "JmGBFWtpOub5"
      }
    },
    {
      "cell_type": "markdown",
      "source": [
        "Without vectorization"
      ],
      "metadata": {
        "id": "63s-iKNmO2fX"
      }
    },
    {
      "cell_type": "code",
      "source": [
        "x = ([1,0,1],[2,0,2],[3,0,3],[4,4,4])\n",
        "def a(data):\n",
        "    k = 0\n",
        "    p = 1\n",
        "    for i in data:\n",
        "        if i[k] != 0:\n",
        "            p *= i[k]\n",
        "        if k != len(i) - 1:\n",
        "            k += 1\n",
        "    return p\n",
        "\n",
        "import numpy as np\n",
        "\n",
        "sizes = [10**4, 10**5, 10**6]\n",
        "for size in sizes:\n",
        "    x_large = np.tile(x, (size // len(x), 1))\n",
        "\n",
        "    %timeit a(x_large)"
      ],
      "metadata": {
        "id": "NnKKdLGnPGDy",
        "colab": {
          "base_uri": "https://localhost:8080/"
        },
        "outputId": "55c4d1e4-2f08-46fa-d4cf-fc7892566e00"
      },
      "execution_count": 5,
      "outputs": [
        {
          "output_type": "stream",
          "name": "stderr",
          "text": [
            "<ipython-input-5-b90f34126d33>:7: RuntimeWarning: overflow encountered in scalar multiply\n",
            "  p *= i[k]\n"
          ]
        },
        {
          "output_type": "stream",
          "name": "stdout",
          "text": [
            "6.11 ms ± 1.5 ms per loop (mean ± std. dev. of 7 runs, 100 loops each)\n",
            "60.4 ms ± 10.4 ms per loop (mean ± std. dev. of 7 runs, 10 loops each)\n",
            "730 ms ± 210 ms per loop (mean ± std. dev. of 7 runs, 1 loop each)\n"
          ]
        }
      ]
    },
    {
      "cell_type": "markdown",
      "source": [
        "With vectorization"
      ],
      "metadata": {
        "id": "YW3gaukbPI9G"
      }
    },
    {
      "cell_type": "code",
      "source": [
        "import numpy as np\n",
        "small_diag = np.random.randint(1, 10, 10**5)\n",
        "medium_diag = np.random.randint(1, 10, 10**6)\n",
        "large_diag = np.random.randint(1, 10, 10**7)\n",
        "def proc(x):\n",
        "  return np.prod(x[x!= 0])\n",
        "%timeit proc(small_diag)\n",
        "%timeit proc(medium_diag)\n",
        "%timeit proc(large_diag)"
      ],
      "metadata": {
        "id": "K8x-Ula_PMAr",
        "colab": {
          "base_uri": "https://localhost:8080/"
        },
        "outputId": "68cbeae4-d583-46fb-d7f2-e8e78b9fc89f"
      },
      "execution_count": 2,
      "outputs": [
        {
          "output_type": "stream",
          "name": "stdout",
          "text": [
            "298 µs ± 3.79 µs per loop (mean ± std. dev. of 7 runs, 1000 loops each)\n",
            "3.2 ms ± 84.8 µs per loop (mean ± std. dev. of 7 runs, 100 loops each)\n",
            "59.9 ms ± 3.12 ms per loop (mean ± std. dev. of 7 runs, 10 loops each)\n"
          ]
        }
      ]
    },
    {
      "cell_type": "markdown",
      "source": [
        "# **Number 2**"
      ],
      "metadata": {
        "id": "g7Mg8ieESJuI"
      }
    },
    {
      "cell_type": "markdown",
      "source": [
        "With vectorization"
      ],
      "metadata": {
        "id": "98dXo33nSYxj"
      }
    },
    {
      "cell_type": "code",
      "source": [
        "import numpy as np\n",
        "from scipy.sparse import lil_matrix\n",
        "small = np.empty((10**5, 10**5))\n",
        "medium = np.empty((10**6, 10**6))\n",
        "large = lil_matrix((10**7, 10**7))\n",
        "n, m = 1, 1\n",
        "%timeit result = small[n, m]\n",
        "%timeit result = medium[n, m]\n",
        "%timeit result = large[n, m]"
      ],
      "metadata": {
        "id": "SEzCkB4ZSb2i",
        "colab": {
          "base_uri": "https://localhost:8080/"
        },
        "outputId": "1c5974cd-6fb0-4b0b-ea2d-5e09d129d714"
      },
      "execution_count": 6,
      "outputs": [
        {
          "output_type": "stream",
          "name": "stdout",
          "text": [
            "250 ns ± 71.5 ns per loop (mean ± std. dev. of 7 runs, 1000000 loops each)\n",
            "209 ns ± 8.32 ns per loop (mean ± std. dev. of 7 runs, 1000000 loops each)\n",
            "2.02 µs ± 421 ns per loop (mean ± std. dev. of 7 runs, 1000000 loops each)\n"
          ]
        }
      ]
    },
    {
      "cell_type": "markdown",
      "source": [
        "Without vectorization"
      ],
      "metadata": {
        "id": "TnMd5htySd4q"
      }
    },
    {
      "cell_type": "code",
      "source": [
        "import numpy as np\n",
        "\n",
        "def v(arr, n, m):\n",
        "    result = np.array([arr[n[k], m[k]] for k in range(len(n))])\n",
        "    return result\n",
        "\n",
        "sizes = [10**4, 10**5, 10**6]\n",
        "\n",
        "for size in sizes:\n",
        "    n = np.random.randint(0, 100, size)\n",
        "    m = np.random.randint(0, 100, size)\n",
        "    arr = np.random.rand(100, 100)\n",
        "\n",
        "    %timeit v(arr, n, m)"
      ],
      "metadata": {
        "id": "3OQjpl_BSgxb",
        "colab": {
          "base_uri": "https://localhost:8080/"
        },
        "outputId": "dfc3d19a-3cf2-420e-959c-e501417ab5d7"
      },
      "execution_count": 4,
      "outputs": [
        {
          "output_type": "stream",
          "name": "stdout",
          "text": [
            "4.99 ms ± 617 µs per loop (mean ± std. dev. of 7 runs, 100 loops each)\n",
            "48.3 ms ± 1.11 ms per loop (mean ± std. dev. of 7 runs, 10 loops each)\n",
            "621 ms ± 207 ms per loop (mean ± std. dev. of 7 runs, 1 loop each)\n"
          ]
        }
      ]
    },
    {
      "cell_type": "markdown",
      "source": [
        "# **Number 3**"
      ],
      "metadata": {
        "id": "fhWH3T5jPRKy"
      }
    },
    {
      "cell_type": "markdown",
      "source": [
        "Without vectorization"
      ],
      "metadata": {
        "id": "KBYW18ZvPfal"
      }
    },
    {
      "cell_type": "code",
      "source": [
        "import numpy as np\n",
        "\n",
        "def a(arr):\n",
        "    dict = {}\n",
        "    for val in arr:\n",
        "        if val in dict: dict[val] += 1\n",
        "        else: dict[val] = 1\n",
        "    return dict\n",
        "\n",
        "sizes = [10**4, 10**5, 10**6]\n",
        "\n",
        "for size in sizes:\n",
        "    x = list(np.random.randint(0, 10, size))\n",
        "    y = list(np.random.randint(0, 10, size))\n",
        "    %timeit a(x) == a(y)"
      ],
      "metadata": {
        "id": "syZEX9FZPkVt",
        "colab": {
          "base_uri": "https://localhost:8080/"
        },
        "outputId": "21ce71d0-7563-49df-b54c-00dd6fdb356a"
      },
      "execution_count": 6,
      "outputs": [
        {
          "output_type": "stream",
          "name": "stdout",
          "text": [
            "4.88 ms ± 61.8 µs per loop (mean ± std. dev. of 7 runs, 100 loops each)\n",
            "68.2 ms ± 22.6 ms per loop (mean ± std. dev. of 7 runs, 10 loops each)\n",
            "496 ms ± 11.1 ms per loop (mean ± std. dev. of 7 runs, 1 loop each)\n"
          ]
        }
      ]
    },
    {
      "cell_type": "markdown",
      "source": [
        "With vectorization"
      ],
      "metadata": {
        "id": "VAYfq5N4PnWj"
      }
    },
    {
      "cell_type": "code",
      "source": [
        "from collections import Counter\n",
        "import numpy as np\n",
        "x_small = np.random.randint(0, 5, s=10**5)\n",
        "y_small = np.random.permutation(x_small)\n",
        "\n",
        "x_medium = np.random.randint(0, 5, s=10**6)\n",
        "y_medium = np.random.permutation(x_medium)\n",
        "\n",
        "x_large = np.random.randint(0, 5, s=10**7)\n",
        "y_large = np.random.permutation(x_large)\n",
        "\n",
        "%timeit Counter(x_small) == Counter(y_small)\n",
        "%timeit Counter(x_medium) == Counter(y_medium)\n",
        "%timeit Counter(x_large) == Counter(y_large)"
      ],
      "metadata": {
        "id": "Jh0tWIq0PrM-",
        "colab": {
          "base_uri": "https://localhost:8080/"
        },
        "outputId": "86e91818-801e-4ac2-b065-2640f4cbc747"
      },
      "execution_count": 7,
      "outputs": [
        {
          "output_type": "stream",
          "name": "stdout",
          "text": [
            "33.1 ms ± 590 µs per loop (mean ± std. dev. of 7 runs, 10 loops each)\n",
            "340 ms ± 14.7 ms per loop (mean ± std. dev. of 7 runs, 1 loop each)\n",
            "3.78 s ± 588 ms per loop (mean ± std. dev. of 7 runs, 1 loop each)\n"
          ]
        }
      ]
    },
    {
      "cell_type": "markdown",
      "source": [
        "# **Number 4**"
      ],
      "metadata": {
        "id": "outLA6COP6eJ"
      }
    },
    {
      "cell_type": "markdown",
      "source": [
        "Without vectorization"
      ],
      "metadata": {
        "id": "KxsY4IzOQAUY"
      }
    },
    {
      "cell_type": "code",
      "source": [
        "import numpy as np\n",
        "\n",
        "def a(x):\n",
        "    maxel = None\n",
        "    for i in range(1, len(x)):\n",
        "        if x[i - 1] == 0:\n",
        "            if maxel is None or x[i] > maxel:\n",
        "                maxel = x[i]\n",
        "    return maxel\n",
        "sizes = [10**5, 10**6, 10**7]\n",
        "\n",
        "for size in sizes:\n",
        "    x = np.random.randint(0, 10, size)\n",
        "\n",
        "    %timeit a(x)"
      ],
      "metadata": {
        "id": "GlDjS66sQEoy",
        "colab": {
          "base_uri": "https://localhost:8080/"
        },
        "outputId": "ab93aac0-1fa3-4bd4-f427-35d639843c22"
      },
      "execution_count": 7,
      "outputs": [
        {
          "output_type": "stream",
          "name": "stdout",
          "text": [
            "26.5 ms ± 7.72 ms per loop (mean ± std. dev. of 7 runs, 10 loops each)\n",
            "226 ms ± 11.1 ms per loop (mean ± std. dev. of 7 runs, 1 loop each)\n",
            "2.41 s ± 463 ms per loop (mean ± std. dev. of 7 runs, 1 loop each)\n"
          ]
        }
      ]
    },
    {
      "cell_type": "markdown",
      "source": [
        "With vectorization"
      ],
      "metadata": {
        "id": "adFffX4wQM6y"
      }
    },
    {
      "cell_type": "code",
      "source": [
        "import numpy as np\n",
        "x = np.array([6, 2, 0, 3, 0, 0, 5, 7, 0])\n",
        "\n",
        "x_small = np.tile(x, 10**5)\n",
        "x_medium = np.tile(x, 10**6)\n",
        "x_large = np.tile(x, 10**7)\n",
        "\n",
        "%timeit m = (x_small[:-1] == 0); c = x_small[1:][m]; c.max() if m.any() else None\n",
        "%timeit m = (x_medium[:-1] == 0); c = x_medium[1:][m]; c.max() if m.any() else None\n",
        "%timeit m = (x_large[:-1] == 0); c = x_large[1:][m]; c.max() if m.any() else None"
      ],
      "metadata": {
        "id": "_Bo-0T9jQQl6",
        "colab": {
          "base_uri": "https://localhost:8080/"
        },
        "outputId": "18f694b9-974b-480a-fa89-c9dfe62251ec"
      },
      "execution_count": 12,
      "outputs": [
        {
          "output_type": "stream",
          "name": "stdout",
          "text": [
            "4.27 ms ± 151 µs per loop (mean ± std. dev. of 7 runs, 100 loops each)\n",
            "64.9 ms ± 13.3 ms per loop (mean ± std. dev. of 7 runs, 10 loops each)\n",
            "518 ms ± 4.21 ms per loop (mean ± std. dev. of 7 runs, 1 loop each)\n"
          ]
        }
      ]
    },
    {
      "cell_type": "markdown",
      "source": [
        "# **Number 5**"
      ],
      "metadata": {
        "id": "gByWwUH7QXVA"
      }
    },
    {
      "cell_type": "code",
      "source": [
        "import numpy as np\n",
        "def r(image, weights):\n",
        "    assert image.shape[2] == len(weights)\n",
        "    gray = np.tensordot(image, weights, axes = ([2], [0]))\n",
        "    return gray\n",
        "small_image = np.random.rand(10**5, 10**5, 3)\n",
        "medium_image = np.random.rand(10**6, 10**6, 3)\n",
        "large_image = np.random.rand(10**7, 10**7, 3)\n",
        "\n",
        "weights = np.random.rand(3)\n",
        "\n",
        "%timeit r(small_image, weights)\n",
        "%timeit r(medium_image, weights)\n",
        "%timeit r(large_image, weights)"
      ],
      "metadata": {
        "id": "VW8cKpGPQaIz"
      },
      "execution_count": null,
      "outputs": []
    },
    {
      "cell_type": "markdown",
      "source": [
        "# **Number 6**"
      ],
      "metadata": {
        "id": "-G0Mb41HQeLj"
      }
    },
    {
      "cell_type": "markdown",
      "source": [
        "With vectorization"
      ],
      "metadata": {
        "id": "_8EViGdTQh9r"
      }
    },
    {
      "cell_type": "code",
      "source": [
        "import numpy as np\n",
        "def vector(x):\n",
        "    b = np.where(x[1:] != x[:-1])[0] + 1\n",
        "    val = np.concatenate((np.array([x[0]]), x[b]))\n",
        "    counts = np.diff(np.concatenate(([0], b, [len(x)])))\n",
        "    return val, counts\n",
        "x_small = np.random.randint(0, 2, 10**5)\n",
        "x_medium = np.random.randint(0, 2, 10**6)\n",
        "x_large = np.random.randint(0, 2, 10**7)\n",
        "\n",
        "%timeit vector(x_small)\n",
        "%timeit vector(x_medium)\n",
        "%timeit vector(x_large)"
      ],
      "metadata": {
        "id": "g4HrBTbwQlAs",
        "colab": {
          "base_uri": "https://localhost:8080/"
        },
        "outputId": "6814a70e-375f-498c-89e1-d233e5ecc765"
      },
      "execution_count": 2,
      "outputs": [
        {
          "output_type": "stream",
          "name": "stdout",
          "text": [
            "750 µs ± 5.83 µs per loop (mean ± std. dev. of 7 runs, 1000 loops each)\n",
            "20.7 ms ± 1.48 ms per loop (mean ± std. dev. of 7 runs, 100 loops each)\n",
            "166 ms ± 15 ms per loop (mean ± std. dev. of 7 runs, 1 loop each)\n"
          ]
        }
      ]
    },
    {
      "cell_type": "code",
      "source": [],
      "metadata": {
        "id": "Oq-w0g8K00aq"
      },
      "execution_count": null,
      "outputs": []
    },
    {
      "cell_type": "markdown",
      "source": [
        "Without vectorization"
      ],
      "metadata": {
        "id": "p1VUYcqFQnOs"
      }
    },
    {
      "cell_type": "code",
      "source": [
        "import numpy as np\n",
        "\n",
        "def r(x):\n",
        "    val = []\n",
        "    counts = []\n",
        "    cur = x[0]\n",
        "    k = 1\n",
        "\n",
        "    for i in range(1, len(x)):\n",
        "        if x[i] == cur:\n",
        "            k += 1\n",
        "        else:\n",
        "            val.append(cur)\n",
        "            counts.append(k)\n",
        "            cur = x[i]\n",
        "            k = 1\n",
        "    val.append(cur)\n",
        "    counts.append(k)\n",
        "\n",
        "    return val, counts\n",
        "sizes = [10**5, 10**6, 10**7]\n",
        "\n",
        "for size in sizes:\n",
        "    x = np.random.randint(0, 10, size)\n",
        "    %timeit r(x)"
      ],
      "metadata": {
        "id": "eeXf2o4PQsKM",
        "colab": {
          "base_uri": "https://localhost:8080/"
        },
        "outputId": "8557cae0-48dc-402b-da42-6ae21a2cc5ad"
      },
      "execution_count": 8,
      "outputs": [
        {
          "output_type": "stream",
          "name": "stdout",
          "text": [
            "36.4 ms ± 1.55 ms per loop (mean ± std. dev. of 7 runs, 10 loops each)\n",
            "359 ms ± 14.3 ms per loop (mean ± std. dev. of 7 runs, 1 loop each)\n",
            "4.28 s ± 609 ms per loop (mean ± std. dev. of 7 runs, 1 loop each)\n"
          ]
        }
      ]
    },
    {
      "cell_type": "markdown",
      "source": [
        "## **Number 7**"
      ],
      "metadata": {
        "id": "L0Q98z8UQwzN"
      }
    },
    {
      "cell_type": "markdown",
      "source": [
        "With vectorization"
      ],
      "metadata": {
        "id": "X8sC_PPEQylt"
      }
    },
    {
      "cell_type": "code",
      "source": [
        "from scipy.spatial.distance import cdist\n",
        "import numpy as np\n",
        "\n",
        "def euc_fast(x, y):\n",
        "    return cdist(x, y)\n",
        "\n",
        "sizes = [10**3, 10**4, 10**5]\n",
        "data_sets = [(np.random.rand(size, 3), np.random.rand(size, 3)) for size in sizes]\n",
        "\n",
        "for i, (x, y) in enumerate(data_sets):\n",
        "    size = sizes[i]\n",
        "    %timeit euc_fast(x, y)"
      ],
      "metadata": {
        "id": "BAWXZMW5Q40e",
        "colab": {
          "base_uri": "https://localhost:8080/"
        },
        "outputId": "7eb34876-3ac4-4149-c0fe-af6296556ce4"
      },
      "execution_count": null,
      "outputs": [
        {
          "output_type": "stream",
          "name": "stdout",
          "text": [
            "3.97 ms ± 80.2 µs per loop (mean ± std. dev. of 7 runs, 100 loops each)\n",
            "671 ms ± 144 ms per loop (mean ± std. dev. of 7 runs, 1 loop each)\n"
          ]
        }
      ]
    },
    {
      "cell_type": "markdown",
      "source": [
        "Without vectorization"
      ],
      "metadata": {
        "id": "T9yCM1wBQ8C2"
      }
    },
    {
      "cell_type": "code",
      "source": [
        "import numpy as np\n",
        "def euc(x, y):\n",
        "    x = np.array(x)\n",
        "    y = np.array(y)\n",
        "    dist = np.zeros((x.shape[0], y.shape[0]))\n",
        "\n",
        "    for i in range(x.shape[0]):\n",
        "        for j in range(y.shape[0]):\n",
        "            dist[i, j] = np.sqrt(np.sum((x[i] - y[j])**2))\n",
        "    return dist\n",
        "sizes = [10**2, 10**3, 10**4]\n",
        "for size in sizes:\n",
        "    X = np.random.rand(size, 2)\n",
        "    Y = np.random.rand(size, 2)\n",
        "    %timeit euc(X, Y)"
      ],
      "metadata": {
        "id": "3mC7t44NQ_jX",
        "colab": {
          "base_uri": "https://localhost:8080/",
          "height": 443
        },
        "outputId": "189f12fe-2b37-4698-800c-b3d63a0218da"
      },
      "execution_count": 2,
      "outputs": [
        {
          "output_type": "stream",
          "name": "stdout",
          "text": [
            "67.8 ms ± 1.33 ms per loop (mean ± std. dev. of 7 runs, 10 loops each)\n",
            "7.74 s ± 533 ms per loop (mean ± std. dev. of 7 runs, 1 loop each)\n"
          ]
        },
        {
          "output_type": "error",
          "ename": "KeyboardInterrupt",
          "evalue": "",
          "traceback": [
            "\u001b[0;31m---------------------------------------------------------------------------\u001b[0m",
            "\u001b[0;31mKeyboardInterrupt\u001b[0m                         Traceback (most recent call last)",
            "\u001b[0;32m<ipython-input-2-881e07c84c21>\u001b[0m in \u001b[0;36m<cell line: 12>\u001b[0;34m()\u001b[0m\n\u001b[1;32m     13\u001b[0m     \u001b[0mX\u001b[0m \u001b[0;34m=\u001b[0m \u001b[0mnp\u001b[0m\u001b[0;34m.\u001b[0m\u001b[0mrandom\u001b[0m\u001b[0;34m.\u001b[0m\u001b[0mrand\u001b[0m\u001b[0;34m(\u001b[0m\u001b[0msize\u001b[0m\u001b[0;34m,\u001b[0m \u001b[0;36m2\u001b[0m\u001b[0;34m)\u001b[0m\u001b[0;34m\u001b[0m\u001b[0;34m\u001b[0m\u001b[0m\n\u001b[1;32m     14\u001b[0m     \u001b[0mY\u001b[0m \u001b[0;34m=\u001b[0m \u001b[0mnp\u001b[0m\u001b[0;34m.\u001b[0m\u001b[0mrandom\u001b[0m\u001b[0;34m.\u001b[0m\u001b[0mrand\u001b[0m\u001b[0;34m(\u001b[0m\u001b[0msize\u001b[0m\u001b[0;34m,\u001b[0m \u001b[0;36m2\u001b[0m\u001b[0;34m)\u001b[0m\u001b[0;34m\u001b[0m\u001b[0;34m\u001b[0m\u001b[0m\n\u001b[0;32m---> 15\u001b[0;31m     \u001b[0mget_ipython\u001b[0m\u001b[0;34m(\u001b[0m\u001b[0;34m)\u001b[0m\u001b[0;34m.\u001b[0m\u001b[0mrun_line_magic\u001b[0m\u001b[0;34m(\u001b[0m\u001b[0;34m'timeit'\u001b[0m\u001b[0;34m,\u001b[0m \u001b[0;34m'euc(X, Y)'\u001b[0m\u001b[0;34m)\u001b[0m\u001b[0;34m\u001b[0m\u001b[0;34m\u001b[0m\u001b[0m\n\u001b[0m",
            "\u001b[0;32m/usr/local/lib/python3.10/dist-packages/IPython/core/interactiveshell.py\u001b[0m in \u001b[0;36mrun_line_magic\u001b[0;34m(self, magic_name, line, _stack_depth)\u001b[0m\n\u001b[1;32m   2416\u001b[0m                 \u001b[0mkwargs\u001b[0m\u001b[0;34m[\u001b[0m\u001b[0;34m'local_ns'\u001b[0m\u001b[0;34m]\u001b[0m \u001b[0;34m=\u001b[0m \u001b[0mself\u001b[0m\u001b[0;34m.\u001b[0m\u001b[0mget_local_scope\u001b[0m\u001b[0;34m(\u001b[0m\u001b[0mstack_depth\u001b[0m\u001b[0;34m)\u001b[0m\u001b[0;34m\u001b[0m\u001b[0;34m\u001b[0m\u001b[0m\n\u001b[1;32m   2417\u001b[0m             \u001b[0;32mwith\u001b[0m \u001b[0mself\u001b[0m\u001b[0;34m.\u001b[0m\u001b[0mbuiltin_trap\u001b[0m\u001b[0;34m:\u001b[0m\u001b[0;34m\u001b[0m\u001b[0;34m\u001b[0m\u001b[0m\n\u001b[0;32m-> 2418\u001b[0;31m                 \u001b[0mresult\u001b[0m \u001b[0;34m=\u001b[0m \u001b[0mfn\u001b[0m\u001b[0;34m(\u001b[0m\u001b[0;34m*\u001b[0m\u001b[0margs\u001b[0m\u001b[0;34m,\u001b[0m \u001b[0;34m**\u001b[0m\u001b[0mkwargs\u001b[0m\u001b[0;34m)\u001b[0m\u001b[0;34m\u001b[0m\u001b[0;34m\u001b[0m\u001b[0m\n\u001b[0m\u001b[1;32m   2419\u001b[0m             \u001b[0;32mreturn\u001b[0m \u001b[0mresult\u001b[0m\u001b[0;34m\u001b[0m\u001b[0;34m\u001b[0m\u001b[0m\n\u001b[1;32m   2420\u001b[0m \u001b[0;34m\u001b[0m\u001b[0m\n",
            "\u001b[0;32m<decorator-gen-53>\u001b[0m in \u001b[0;36mtimeit\u001b[0;34m(self, line, cell, local_ns)\u001b[0m\n",
            "\u001b[0;32m/usr/local/lib/python3.10/dist-packages/IPython/core/magic.py\u001b[0m in \u001b[0;36m<lambda>\u001b[0;34m(f, *a, **k)\u001b[0m\n\u001b[1;32m    185\u001b[0m     \u001b[0;31m# but it's overkill for just that one bit of state.\u001b[0m\u001b[0;34m\u001b[0m\u001b[0;34m\u001b[0m\u001b[0m\n\u001b[1;32m    186\u001b[0m     \u001b[0;32mdef\u001b[0m \u001b[0mmagic_deco\u001b[0m\u001b[0;34m(\u001b[0m\u001b[0marg\u001b[0m\u001b[0;34m)\u001b[0m\u001b[0;34m:\u001b[0m\u001b[0;34m\u001b[0m\u001b[0;34m\u001b[0m\u001b[0m\n\u001b[0;32m--> 187\u001b[0;31m         \u001b[0mcall\u001b[0m \u001b[0;34m=\u001b[0m \u001b[0;32mlambda\u001b[0m \u001b[0mf\u001b[0m\u001b[0;34m,\u001b[0m \u001b[0;34m*\u001b[0m\u001b[0ma\u001b[0m\u001b[0;34m,\u001b[0m \u001b[0;34m**\u001b[0m\u001b[0mk\u001b[0m\u001b[0;34m:\u001b[0m \u001b[0mf\u001b[0m\u001b[0;34m(\u001b[0m\u001b[0;34m*\u001b[0m\u001b[0ma\u001b[0m\u001b[0;34m,\u001b[0m \u001b[0;34m**\u001b[0m\u001b[0mk\u001b[0m\u001b[0;34m)\u001b[0m\u001b[0;34m\u001b[0m\u001b[0;34m\u001b[0m\u001b[0m\n\u001b[0m\u001b[1;32m    188\u001b[0m \u001b[0;34m\u001b[0m\u001b[0m\n\u001b[1;32m    189\u001b[0m         \u001b[0;32mif\u001b[0m \u001b[0mcallable\u001b[0m\u001b[0;34m(\u001b[0m\u001b[0marg\u001b[0m\u001b[0;34m)\u001b[0m\u001b[0;34m:\u001b[0m\u001b[0;34m\u001b[0m\u001b[0;34m\u001b[0m\u001b[0m\n",
            "\u001b[0;32m/usr/local/lib/python3.10/dist-packages/IPython/core/magics/execution.py\u001b[0m in \u001b[0;36mtimeit\u001b[0;34m(self, line, cell, local_ns)\u001b[0m\n\u001b[1;32m   1178\u001b[0m             \u001b[0;32mfor\u001b[0m \u001b[0mindex\u001b[0m \u001b[0;32min\u001b[0m \u001b[0mrange\u001b[0m\u001b[0;34m(\u001b[0m\u001b[0;36m0\u001b[0m\u001b[0;34m,\u001b[0m \u001b[0;36m10\u001b[0m\u001b[0;34m)\u001b[0m\u001b[0;34m:\u001b[0m\u001b[0;34m\u001b[0m\u001b[0;34m\u001b[0m\u001b[0m\n\u001b[1;32m   1179\u001b[0m                 \u001b[0mnumber\u001b[0m \u001b[0;34m=\u001b[0m \u001b[0;36m10\u001b[0m \u001b[0;34m**\u001b[0m \u001b[0mindex\u001b[0m\u001b[0;34m\u001b[0m\u001b[0;34m\u001b[0m\u001b[0m\n\u001b[0;32m-> 1180\u001b[0;31m                 \u001b[0mtime_number\u001b[0m \u001b[0;34m=\u001b[0m \u001b[0mtimer\u001b[0m\u001b[0;34m.\u001b[0m\u001b[0mtimeit\u001b[0m\u001b[0;34m(\u001b[0m\u001b[0mnumber\u001b[0m\u001b[0;34m)\u001b[0m\u001b[0;34m\u001b[0m\u001b[0;34m\u001b[0m\u001b[0m\n\u001b[0m\u001b[1;32m   1181\u001b[0m                 \u001b[0;32mif\u001b[0m \u001b[0mtime_number\u001b[0m \u001b[0;34m>=\u001b[0m \u001b[0;36m0.2\u001b[0m\u001b[0;34m:\u001b[0m\u001b[0;34m\u001b[0m\u001b[0;34m\u001b[0m\u001b[0m\n\u001b[1;32m   1182\u001b[0m                     \u001b[0;32mbreak\u001b[0m\u001b[0;34m\u001b[0m\u001b[0;34m\u001b[0m\u001b[0m\n",
            "\u001b[0;32m/usr/local/lib/python3.10/dist-packages/IPython/core/magics/execution.py\u001b[0m in \u001b[0;36mtimeit\u001b[0;34m(self, number)\u001b[0m\n\u001b[1;32m    167\u001b[0m         \u001b[0mgc\u001b[0m\u001b[0;34m.\u001b[0m\u001b[0mdisable\u001b[0m\u001b[0;34m(\u001b[0m\u001b[0;34m)\u001b[0m\u001b[0;34m\u001b[0m\u001b[0;34m\u001b[0m\u001b[0m\n\u001b[1;32m    168\u001b[0m         \u001b[0;32mtry\u001b[0m\u001b[0;34m:\u001b[0m\u001b[0;34m\u001b[0m\u001b[0;34m\u001b[0m\u001b[0m\n\u001b[0;32m--> 169\u001b[0;31m             \u001b[0mtiming\u001b[0m \u001b[0;34m=\u001b[0m \u001b[0mself\u001b[0m\u001b[0;34m.\u001b[0m\u001b[0minner\u001b[0m\u001b[0;34m(\u001b[0m\u001b[0mit\u001b[0m\u001b[0;34m,\u001b[0m \u001b[0mself\u001b[0m\u001b[0;34m.\u001b[0m\u001b[0mtimer\u001b[0m\u001b[0;34m)\u001b[0m\u001b[0;34m\u001b[0m\u001b[0;34m\u001b[0m\u001b[0m\n\u001b[0m\u001b[1;32m    170\u001b[0m         \u001b[0;32mfinally\u001b[0m\u001b[0;34m:\u001b[0m\u001b[0;34m\u001b[0m\u001b[0;34m\u001b[0m\u001b[0m\n\u001b[1;32m    171\u001b[0m             \u001b[0;32mif\u001b[0m \u001b[0mgcold\u001b[0m\u001b[0;34m:\u001b[0m\u001b[0;34m\u001b[0m\u001b[0;34m\u001b[0m\u001b[0m\n",
            "\u001b[0;32m<magic-timeit>\u001b[0m in \u001b[0;36minner\u001b[0;34m(_it, _timer)\u001b[0m\n",
            "\u001b[0;32m<ipython-input-2-881e07c84c21>\u001b[0m in \u001b[0;36meuc\u001b[0;34m(x, y)\u001b[0m\n\u001b[1;32m      7\u001b[0m     \u001b[0;32mfor\u001b[0m \u001b[0mi\u001b[0m \u001b[0;32min\u001b[0m \u001b[0mrange\u001b[0m\u001b[0;34m(\u001b[0m\u001b[0mx\u001b[0m\u001b[0;34m.\u001b[0m\u001b[0mshape\u001b[0m\u001b[0;34m[\u001b[0m\u001b[0;36m0\u001b[0m\u001b[0;34m]\u001b[0m\u001b[0;34m)\u001b[0m\u001b[0;34m:\u001b[0m\u001b[0;34m\u001b[0m\u001b[0;34m\u001b[0m\u001b[0m\n\u001b[1;32m      8\u001b[0m         \u001b[0;32mfor\u001b[0m \u001b[0mj\u001b[0m \u001b[0;32min\u001b[0m \u001b[0mrange\u001b[0m\u001b[0;34m(\u001b[0m\u001b[0my\u001b[0m\u001b[0;34m.\u001b[0m\u001b[0mshape\u001b[0m\u001b[0;34m[\u001b[0m\u001b[0;36m0\u001b[0m\u001b[0;34m]\u001b[0m\u001b[0;34m)\u001b[0m\u001b[0;34m:\u001b[0m\u001b[0;34m\u001b[0m\u001b[0;34m\u001b[0m\u001b[0m\n\u001b[0;32m----> 9\u001b[0;31m             \u001b[0mdist\u001b[0m\u001b[0;34m[\u001b[0m\u001b[0mi\u001b[0m\u001b[0;34m,\u001b[0m \u001b[0mj\u001b[0m\u001b[0;34m]\u001b[0m \u001b[0;34m=\u001b[0m \u001b[0mnp\u001b[0m\u001b[0;34m.\u001b[0m\u001b[0msqrt\u001b[0m\u001b[0;34m(\u001b[0m\u001b[0mnp\u001b[0m\u001b[0;34m.\u001b[0m\u001b[0msum\u001b[0m\u001b[0;34m(\u001b[0m\u001b[0;34m(\u001b[0m\u001b[0mx\u001b[0m\u001b[0;34m[\u001b[0m\u001b[0mi\u001b[0m\u001b[0;34m]\u001b[0m \u001b[0;34m-\u001b[0m \u001b[0my\u001b[0m\u001b[0;34m[\u001b[0m\u001b[0mj\u001b[0m\u001b[0;34m]\u001b[0m\u001b[0;34m)\u001b[0m\u001b[0;34m**\u001b[0m\u001b[0;36m2\u001b[0m\u001b[0;34m)\u001b[0m\u001b[0;34m)\u001b[0m\u001b[0;34m\u001b[0m\u001b[0;34m\u001b[0m\u001b[0m\n\u001b[0m\u001b[1;32m     10\u001b[0m     \u001b[0;32mreturn\u001b[0m \u001b[0mdist\u001b[0m\u001b[0;34m\u001b[0m\u001b[0;34m\u001b[0m\u001b[0m\n\u001b[1;32m     11\u001b[0m \u001b[0msizes\u001b[0m \u001b[0;34m=\u001b[0m \u001b[0;34m[\u001b[0m\u001b[0;36m10\u001b[0m\u001b[0;34m**\u001b[0m\u001b[0;36m2\u001b[0m\u001b[0;34m,\u001b[0m \u001b[0;36m10\u001b[0m\u001b[0;34m**\u001b[0m\u001b[0;36m3\u001b[0m\u001b[0;34m,\u001b[0m \u001b[0;36m10\u001b[0m\u001b[0;34m**\u001b[0m\u001b[0;36m4\u001b[0m\u001b[0;34m]\u001b[0m\u001b[0;34m\u001b[0m\u001b[0;34m\u001b[0m\u001b[0m\n",
            "\u001b[0;32m/usr/local/lib/python3.10/dist-packages/numpy/core/fromnumeric.py\u001b[0m in \u001b[0;36m_sum_dispatcher\u001b[0;34m(a, axis, dtype, out, keepdims, initial, where)\u001b[0m\n\u001b[1;32m   2170\u001b[0m \u001b[0;34m\u001b[0m\u001b[0m\n\u001b[1;32m   2171\u001b[0m \u001b[0;34m\u001b[0m\u001b[0m\n\u001b[0;32m-> 2172\u001b[0;31m def _sum_dispatcher(a, axis=None, dtype=None, out=None, keepdims=None,\n\u001b[0m\u001b[1;32m   2173\u001b[0m                     initial=None, where=None):\n\u001b[1;32m   2174\u001b[0m     \u001b[0;32mreturn\u001b[0m \u001b[0;34m(\u001b[0m\u001b[0ma\u001b[0m\u001b[0;34m,\u001b[0m \u001b[0mout\u001b[0m\u001b[0;34m)\u001b[0m\u001b[0;34m\u001b[0m\u001b[0;34m\u001b[0m\u001b[0m\n",
            "\u001b[0;31mKeyboardInterrupt\u001b[0m: "
          ]
        }
      ]
    },
    {
      "cell_type": "markdown",
      "source": [],
      "metadata": {
        "id": "BISA_ZlJ6Kqz"
      }
    },
    {
      "cell_type": "markdown",
      "source": [
        "Comparizon"
      ],
      "metadata": {
        "id": "7OpNdlQVRFbH"
      }
    },
    {
      "cell_type": "code",
      "source": [
        "from scipy.spatial.distance import cdist\n",
        "\n",
        "x = np.array([[1, 2], [3, 4], [5, 6]])\n",
        "y = np.array([[1, 0], [0, 0], [4, 5]])\n",
        "cdisty = cdist(x, y, metric='euclidean')\n",
        "print(cdisty)"
      ],
      "metadata": {
        "id": "HyUtmqt6RXnZ"
      },
      "execution_count": null,
      "outputs": []
    }
  ]
}