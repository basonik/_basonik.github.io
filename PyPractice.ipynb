{
  "nbformat": 4,
  "nbformat_minor": 0,
  "metadata": {
    "colab": {
      "provenance": [],
      "authorship_tag": "ABX9TyMNRlqKg4J37hxZVxDr/nNu",
      "include_colab_link": true
    },
    "kernelspec": {
      "name": "python3",
      "display_name": "Python 3"
    },
    "language_info": {
      "name": "python"
    }
  },
  "cells": [
    {
      "cell_type": "markdown",
      "metadata": {
        "id": "view-in-github",
        "colab_type": "text"
      },
      "source": [
        "<a href=\"https://colab.research.google.com/github/basonik/_basonik.github.io/blob/main/PyPractice.ipynb\" target=\"_parent\"><img src=\"https://colab.research.google.com/assets/colab-badge.svg\" alt=\"Open In Colab\"/></a>"
      ]
    },
    {
      "cell_type": "markdown",
      "source": [
        "# **Number 1**"
      ],
      "metadata": {
        "id": "JmGBFWtpOub5"
      }
    },
    {
      "cell_type": "markdown",
      "source": [
        "Without vectorization"
      ],
      "metadata": {
        "id": "63s-iKNmO2fX"
      }
    },
    {
      "cell_type": "code",
      "source": [
        "x = ([1, 0, 1], [2, 0, 2], [3, 0, 3], [4, 4, 4])\n",
        "\n",
        "def a(data):\n",
        "    k = 0\n",
        "    p = 1\n",
        "    for i in data:\n",
        "        if i[k] != 0:\n",
        "            p *= int(i[k])\n",
        "        if k != len(i) - 1:\n",
        "            k += 1\n",
        "    return p\n",
        "import numpy as np\n",
        "\n",
        "sizes = [10**3, 10**4, 10**5]\n",
        "for size in sizes:\n",
        "    x_large = np.tile(x, (size // len(x), 1))\n",
        "    %timeit a(x_large)"
      ],
      "metadata": {
        "id": "NnKKdLGnPGDy",
        "colab": {
          "base_uri": "https://localhost:8080/"
        },
        "outputId": "a2c0b551-88b7-43e5-95f7-0aa066303755"
      },
      "execution_count": 4,
      "outputs": [
        {
          "output_type": "stream",
          "name": "stdout",
          "text": [
            "837 µs ± 230 µs per loop (mean ± std. dev. of 7 runs, 1000 loops each)\n",
            "8.68 ms ± 129 µs per loop (mean ± std. dev. of 7 runs, 100 loops each)\n",
            "459 ms ± 106 ms per loop (mean ± std. dev. of 7 runs, 1 loop each)\n"
          ]
        }
      ]
    },
    {
      "cell_type": "markdown",
      "source": [
        "With vectorization"
      ],
      "metadata": {
        "id": "YW3gaukbPI9G"
      }
    },
    {
      "cell_type": "code",
      "source": [
        "import numpy as np\n",
        "small_diag = np.random.randint(1, 10, 10**5)\n",
        "medium_diag = np.random.randint(1, 10, 10**6)\n",
        "large_diag = np.random.randint(1, 10, 10**7)\n",
        "def proc(x):\n",
        "  return np.prod(x[x!= 0])\n",
        "%timeit proc(small_diag)\n",
        "%timeit proc(medium_diag)\n",
        "%timeit proc(large_diag)"
      ],
      "metadata": {
        "id": "K8x-Ula_PMAr",
        "colab": {
          "base_uri": "https://localhost:8080/"
        },
        "outputId": "68cbeae4-d583-46fb-d7f2-e8e78b9fc89f"
      },
      "execution_count": 2,
      "outputs": [
        {
          "output_type": "stream",
          "name": "stdout",
          "text": [
            "298 µs ± 3.79 µs per loop (mean ± std. dev. of 7 runs, 1000 loops each)\n",
            "3.2 ms ± 84.8 µs per loop (mean ± std. dev. of 7 runs, 100 loops each)\n",
            "59.9 ms ± 3.12 ms per loop (mean ± std. dev. of 7 runs, 10 loops each)\n"
          ]
        }
      ]
    },
    {
      "cell_type": "markdown",
      "source": [
        "# **Number 2**"
      ],
      "metadata": {
        "id": "g7Mg8ieESJuI"
      }
    },
    {
      "cell_type": "markdown",
      "source": [
        "With vectorization"
      ],
      "metadata": {
        "id": "98dXo33nSYxj"
      }
    },
    {
      "cell_type": "code",
      "source": [
        "import numpy as np\n",
        "from scipy.sparse import lil_matrix\n",
        "small = np.empty((10**5, 10**5))\n",
        "medium = np.empty((10**6, 10**6))\n",
        "large = lil_matrix((10**7, 10**7))\n",
        "n, m = 1, 1\n",
        "%timeit result = small[n, m]\n",
        "%timeit result = medium[n, m]\n",
        "%timeit result = large[n, m]"
      ],
      "metadata": {
        "id": "SEzCkB4ZSb2i",
        "colab": {
          "base_uri": "https://localhost:8080/"
        },
        "outputId": "1c5974cd-6fb0-4b0b-ea2d-5e09d129d714"
      },
      "execution_count": 6,
      "outputs": [
        {
          "output_type": "stream",
          "name": "stdout",
          "text": [
            "250 ns ± 71.5 ns per loop (mean ± std. dev. of 7 runs, 1000000 loops each)\n",
            "209 ns ± 8.32 ns per loop (mean ± std. dev. of 7 runs, 1000000 loops each)\n",
            "2.02 µs ± 421 ns per loop (mean ± std. dev. of 7 runs, 1000000 loops each)\n"
          ]
        }
      ]
    },
    {
      "cell_type": "markdown",
      "source": [
        "Without vectorization"
      ],
      "metadata": {
        "id": "TnMd5htySd4q"
      }
    },
    {
      "cell_type": "code",
      "source": [
        "import numpy as np\n",
        "\n",
        "def v(arr, n, m):\n",
        "    result = np.array([arr[n[k], m[k]] for k in range(len(n))])\n",
        "    return result\n",
        "\n",
        "sizes = [10**4, 10**5, 10**6]\n",
        "\n",
        "for size in sizes:\n",
        "    n = np.random.randint(0, 100, size)\n",
        "    m = np.random.randint(0, 100, size)\n",
        "    arr = np.random.rand(100, 100)\n",
        "\n",
        "    %timeit v(arr, n, m)"
      ],
      "metadata": {
        "id": "3OQjpl_BSgxb",
        "colab": {
          "base_uri": "https://localhost:8080/"
        },
        "outputId": "dfc3d19a-3cf2-420e-959c-e501417ab5d7"
      },
      "execution_count": 4,
      "outputs": [
        {
          "output_type": "stream",
          "name": "stdout",
          "text": [
            "4.99 ms ± 617 µs per loop (mean ± std. dev. of 7 runs, 100 loops each)\n",
            "48.3 ms ± 1.11 ms per loop (mean ± std. dev. of 7 runs, 10 loops each)\n",
            "621 ms ± 207 ms per loop (mean ± std. dev. of 7 runs, 1 loop each)\n"
          ]
        }
      ]
    },
    {
      "cell_type": "markdown",
      "source": [
        "# **Number 3**"
      ],
      "metadata": {
        "id": "fhWH3T5jPRKy"
      }
    },
    {
      "cell_type": "markdown",
      "source": [
        "Without vectorization"
      ],
      "metadata": {
        "id": "KBYW18ZvPfal"
      }
    },
    {
      "cell_type": "code",
      "source": [
        "import numpy as np\n",
        "\n",
        "def a(arr):\n",
        "    dict = {}\n",
        "    for val in arr:\n",
        "        if val in dict: dict[val] += 1\n",
        "        else: dict[val] = 1\n",
        "    return dict\n",
        "\n",
        "sizes = [10**4, 10**5, 10**6]\n",
        "\n",
        "for size in sizes:\n",
        "    x = list(np.random.randint(0, 10, size))\n",
        "    y = list(np.random.randint(0, 10, size))\n",
        "    %timeit a(x) == a(y)"
      ],
      "metadata": {
        "id": "syZEX9FZPkVt",
        "colab": {
          "base_uri": "https://localhost:8080/"
        },
        "outputId": "21ce71d0-7563-49df-b54c-00dd6fdb356a"
      },
      "execution_count": 6,
      "outputs": [
        {
          "output_type": "stream",
          "name": "stdout",
          "text": [
            "4.88 ms ± 61.8 µs per loop (mean ± std. dev. of 7 runs, 100 loops each)\n",
            "68.2 ms ± 22.6 ms per loop (mean ± std. dev. of 7 runs, 10 loops each)\n",
            "496 ms ± 11.1 ms per loop (mean ± std. dev. of 7 runs, 1 loop each)\n"
          ]
        }
      ]
    },
    {
      "cell_type": "markdown",
      "source": [
        "With vectorization"
      ],
      "metadata": {
        "id": "VAYfq5N4PnWj"
      }
    },
    {
      "cell_type": "code",
      "source": [
        "from collections import Counter\n",
        "import numpy as np\n",
        "x_small = np.random.randint(0, 5, s=10**5)\n",
        "y_small = np.random.permutation(x_small)\n",
        "\n",
        "x_medium = np.random.randint(0, 5, s=10**6)\n",
        "y_medium = np.random.permutation(x_medium)\n",
        "\n",
        "x_large = np.random.randint(0, 5, s=10**7)\n",
        "y_large = np.random.permutation(x_large)\n",
        "\n",
        "%timeit Counter(x_small) == Counter(y_small)\n",
        "%timeit Counter(x_medium) == Counter(y_medium)\n",
        "%timeit Counter(x_large) == Counter(y_large)"
      ],
      "metadata": {
        "id": "Jh0tWIq0PrM-",
        "colab": {
          "base_uri": "https://localhost:8080/"
        },
        "outputId": "86e91818-801e-4ac2-b065-2640f4cbc747"
      },
      "execution_count": 7,
      "outputs": [
        {
          "output_type": "stream",
          "name": "stdout",
          "text": [
            "33.1 ms ± 590 µs per loop (mean ± std. dev. of 7 runs, 10 loops each)\n",
            "340 ms ± 14.7 ms per loop (mean ± std. dev. of 7 runs, 1 loop each)\n",
            "3.78 s ± 588 ms per loop (mean ± std. dev. of 7 runs, 1 loop each)\n"
          ]
        }
      ]
    },
    {
      "cell_type": "markdown",
      "source": [
        "# **Number 4**"
      ],
      "metadata": {
        "id": "outLA6COP6eJ"
      }
    },
    {
      "cell_type": "markdown",
      "source": [
        "Without vectorization"
      ],
      "metadata": {
        "id": "KxsY4IzOQAUY"
      }
    },
    {
      "cell_type": "code",
      "source": [
        "import numpy as np\n",
        "\n",
        "def a(x):\n",
        "    maxel = None\n",
        "    for i in range(1, len(x)):\n",
        "        if x[i - 1] == 0:\n",
        "            if maxel is None or x[i] > maxel:\n",
        "                maxel = x[i]\n",
        "    return maxel\n",
        "sizes = [10**5, 10**6, 10**7]\n",
        "\n",
        "for size in sizes:\n",
        "    x = np.random.randint(0, 10, size)\n",
        "\n",
        "    %timeit a(x)"
      ],
      "metadata": {
        "id": "GlDjS66sQEoy",
        "colab": {
          "base_uri": "https://localhost:8080/"
        },
        "outputId": "ab93aac0-1fa3-4bd4-f427-35d639843c22"
      },
      "execution_count": 7,
      "outputs": [
        {
          "output_type": "stream",
          "name": "stdout",
          "text": [
            "26.5 ms ± 7.72 ms per loop (mean ± std. dev. of 7 runs, 10 loops each)\n",
            "226 ms ± 11.1 ms per loop (mean ± std. dev. of 7 runs, 1 loop each)\n",
            "2.41 s ± 463 ms per loop (mean ± std. dev. of 7 runs, 1 loop each)\n"
          ]
        }
      ]
    },
    {
      "cell_type": "markdown",
      "source": [
        "With vectorization"
      ],
      "metadata": {
        "id": "adFffX4wQM6y"
      }
    },
    {
      "cell_type": "code",
      "source": [
        "import numpy as np\n",
        "x = np.array([6, 2, 0, 3, 0, 0, 5, 7, 0])\n",
        "\n",
        "x_small = np.tile(x, 10**5)\n",
        "x_medium = np.tile(x, 10**6)\n",
        "x_large = np.tile(x, 10**7)\n",
        "\n",
        "%timeit m = (x_small[:-1] == 0); c = x_small[1:][m]; c.max() if m.any() else None\n",
        "%timeit m = (x_medium[:-1] == 0); c = x_medium[1:][m]; c.max() if m.any() else None\n",
        "%timeit m = (x_large[:-1] == 0); c = x_large[1:][m]; c.max() if m.any() else None"
      ],
      "metadata": {
        "id": "_Bo-0T9jQQl6",
        "colab": {
          "base_uri": "https://localhost:8080/"
        },
        "outputId": "18f694b9-974b-480a-fa89-c9dfe62251ec"
      },
      "execution_count": 12,
      "outputs": [
        {
          "output_type": "stream",
          "name": "stdout",
          "text": [
            "4.27 ms ± 151 µs per loop (mean ± std. dev. of 7 runs, 100 loops each)\n",
            "64.9 ms ± 13.3 ms per loop (mean ± std. dev. of 7 runs, 10 loops each)\n",
            "518 ms ± 4.21 ms per loop (mean ± std. dev. of 7 runs, 1 loop each)\n"
          ]
        }
      ]
    },
    {
      "cell_type": "markdown",
      "source": [
        "# **Number 5**"
      ],
      "metadata": {
        "id": "gByWwUH7QXVA"
      }
    },
    {
      "cell_type": "code",
      "source": [
        "import numpy as np\n",
        "def r(image, weights):\n",
        "    assert image.shape[2] == len(weights)\n",
        "    gray = np.tensordot(image, weights, axes = ([2], [0]))\n",
        "    return gray\n",
        "small_image = np.random.rand(10**2, 10**2, 3)\n",
        "medium_image = np.random.rand(10**3, 10**3, 3)\n",
        "large_image = np.random.rand(10**4, 10**4, 3)\n",
        "\n",
        "weights = np.random.rand(3)\n",
        "\n",
        "%timeit r(small_image, weights)\n",
        "%timeit r(medium_image, weights)\n",
        "%timeit r(large_image, weights)"
      ],
      "metadata": {
        "id": "VW8cKpGPQaIz",
        "colab": {
          "base_uri": "https://localhost:8080/"
        },
        "outputId": "b9ec7839-f572-4907-ec88-3d8d01c765a9"
      },
      "execution_count": 1,
      "outputs": [
        {
          "output_type": "stream",
          "name": "stdout",
          "text": [
            "42.3 µs ± 1.74 µs per loop (mean ± std. dev. of 7 runs, 10000 loops each)\n",
            "4.54 ms ± 1.21 ms per loop (mean ± std. dev. of 7 runs, 100 loops each)\n",
            "581 ms ± 44.2 ms per loop (mean ± std. dev. of 7 runs, 1 loop each)\n"
          ]
        }
      ]
    },
    {
      "cell_type": "markdown",
      "source": [
        "# **Number 6**"
      ],
      "metadata": {
        "id": "-G0Mb41HQeLj"
      }
    },
    {
      "cell_type": "markdown",
      "source": [
        "With vectorization"
      ],
      "metadata": {
        "id": "_8EViGdTQh9r"
      }
    },
    {
      "cell_type": "code",
      "source": [
        "import numpy as np\n",
        "def vector(x):\n",
        "    b = np.where(x[1:] != x[:-1])[0] + 1\n",
        "    val = np.concatenate((np.array([x[0]]), x[b]))\n",
        "    counts = np.diff(np.concatenate(([0], b, [len(x)])))\n",
        "    return val, counts\n",
        "x_small = np.random.randint(0, 2, 10**5)\n",
        "x_medium = np.random.randint(0, 2, 10**6)\n",
        "x_large = np.random.randint(0, 2, 10**7)\n",
        "\n",
        "%timeit vector(x_small)\n",
        "%timeit vector(x_medium)\n",
        "%timeit vector(x_large)"
      ],
      "metadata": {
        "id": "g4HrBTbwQlAs",
        "colab": {
          "base_uri": "https://localhost:8080/"
        },
        "outputId": "6814a70e-375f-498c-89e1-d233e5ecc765"
      },
      "execution_count": 2,
      "outputs": [
        {
          "output_type": "stream",
          "name": "stdout",
          "text": [
            "750 µs ± 5.83 µs per loop (mean ± std. dev. of 7 runs, 1000 loops each)\n",
            "20.7 ms ± 1.48 ms per loop (mean ± std. dev. of 7 runs, 100 loops each)\n",
            "166 ms ± 15 ms per loop (mean ± std. dev. of 7 runs, 1 loop each)\n"
          ]
        }
      ]
    },
    {
      "cell_type": "code",
      "source": [],
      "metadata": {
        "id": "Oq-w0g8K00aq"
      },
      "execution_count": null,
      "outputs": []
    },
    {
      "cell_type": "markdown",
      "source": [
        "Without vectorization"
      ],
      "metadata": {
        "id": "p1VUYcqFQnOs"
      }
    },
    {
      "cell_type": "code",
      "source": [
        "import numpy as np\n",
        "\n",
        "def r(x):\n",
        "    val = []\n",
        "    counts = []\n",
        "    cur = x[0]\n",
        "    k = 1\n",
        "\n",
        "    for i in range(1, len(x)):\n",
        "        if x[i] == cur:\n",
        "            k += 1\n",
        "        else:\n",
        "            val.append(cur)\n",
        "            counts.append(k)\n",
        "            cur = x[i]\n",
        "            k = 1\n",
        "    val.append(cur)\n",
        "    counts.append(k)\n",
        "\n",
        "    return val, counts\n",
        "sizes = [10**5, 10**6, 10**7]\n",
        "\n",
        "for size in sizes:\n",
        "    x = np.random.randint(0, 10, size)\n",
        "    %timeit r(x)"
      ],
      "metadata": {
        "id": "eeXf2o4PQsKM",
        "colab": {
          "base_uri": "https://localhost:8080/"
        },
        "outputId": "8557cae0-48dc-402b-da42-6ae21a2cc5ad"
      },
      "execution_count": 8,
      "outputs": [
        {
          "output_type": "stream",
          "name": "stdout",
          "text": [
            "36.4 ms ± 1.55 ms per loop (mean ± std. dev. of 7 runs, 10 loops each)\n",
            "359 ms ± 14.3 ms per loop (mean ± std. dev. of 7 runs, 1 loop each)\n",
            "4.28 s ± 609 ms per loop (mean ± std. dev. of 7 runs, 1 loop each)\n"
          ]
        }
      ]
    },
    {
      "cell_type": "markdown",
      "source": [
        "## **Number 7**"
      ],
      "metadata": {
        "id": "L0Q98z8UQwzN"
      }
    },
    {
      "cell_type": "markdown",
      "source": [
        "With vectorization"
      ],
      "metadata": {
        "id": "X8sC_PPEQylt"
      }
    },
    {
      "cell_type": "code",
      "source": [
        "from scipy.spatial.distance import cdist\n",
        "import numpy as np\n",
        "\n",
        "def euc_fast(x, y):\n",
        "    return cdist(x, y)\n",
        "\n",
        "sizes = [10**2, 10**3, 10**4]\n",
        "data_sets = [(np.random.rand(size, 3), np.random.rand(size, 3)) for size in sizes]\n",
        "\n",
        "for i, (x, y) in enumerate(data_sets):\n",
        "    size = sizes[i]\n",
        "    %timeit euc_fast(x, y)"
      ],
      "metadata": {
        "id": "BAWXZMW5Q40e",
        "colab": {
          "base_uri": "https://localhost:8080/"
        },
        "outputId": "f1e8c240-aee9-4305-9174-a13bfc65de02"
      },
      "execution_count": 10,
      "outputs": [
        {
          "output_type": "stream",
          "name": "stdout",
          "text": [
            "64.6 µs ± 16.7 µs per loop (mean ± std. dev. of 7 runs, 10000 loops each)\n",
            "4.05 ms ± 84.2 µs per loop (mean ± std. dev. of 7 runs, 100 loops each)\n",
            "554 ms ± 10.1 ms per loop (mean ± std. dev. of 7 runs, 1 loop each)\n"
          ]
        }
      ]
    },
    {
      "cell_type": "markdown",
      "source": [
        "Without vectorization"
      ],
      "metadata": {
        "id": "T9yCM1wBQ8C2"
      }
    },
    {
      "cell_type": "code",
      "source": [
        "import numpy as np\n",
        "def euc(x, y):\n",
        "    x = np.array(x)\n",
        "    y = np.array(y)\n",
        "    dist = np.zeros((x.shape[0], y.shape[0]))\n",
        "\n",
        "    for i in range(x.shape[0]):\n",
        "        for j in range(y.shape[0]):\n",
        "            dist[i, j] = np.sqrt(np.sum((x[i] - y[j])**2))\n",
        "    return dist\n",
        "sizes = [10**1, 10**2, 10**3]\n",
        "for size in sizes:\n",
        "    X = np.random.rand(size, 2)\n",
        "    Y = np.random.rand(size, 2)\n",
        "    %timeit euc(X, Y)"
      ],
      "metadata": {
        "id": "3mC7t44NQ_jX",
        "colab": {
          "base_uri": "https://localhost:8080/"
        },
        "outputId": "c00161e2-44a6-47b1-d446-6fd86dd4e393"
      },
      "execution_count": 9,
      "outputs": [
        {
          "output_type": "stream",
          "name": "stdout",
          "text": [
            "813 µs ± 207 µs per loop (mean ± std. dev. of 7 runs, 1000 loops each)\n",
            "68.6 ms ± 1.6 ms per loop (mean ± std. dev. of 7 runs, 10 loops each)\n",
            "7.64 s ± 630 ms per loop (mean ± std. dev. of 7 runs, 1 loop each)\n"
          ]
        }
      ]
    },
    {
      "cell_type": "markdown",
      "source": [],
      "metadata": {
        "id": "BISA_ZlJ6Kqz"
      }
    },
    {
      "cell_type": "markdown",
      "source": [
        "Comparizon"
      ],
      "metadata": {
        "id": "7OpNdlQVRFbH"
      }
    },
    {
      "cell_type": "code",
      "source": [
        "from scipy.spatial.distance import cdist\n",
        "\n",
        "x = np.array([[1, 2], [3, 4], [5, 6]])\n",
        "y = np.array([[1, 0], [0, 0], [4, 5]])\n",
        "cdisty = cdist(x, y, metric='euclidean')\n",
        "print(cdisty)"
      ],
      "metadata": {
        "id": "HyUtmqt6RXnZ"
      },
      "execution_count": null,
      "outputs": []
    }
  ]
}